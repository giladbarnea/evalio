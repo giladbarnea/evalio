{
 "cells": [
  {
   "cell_type": "code",
   "execution_count": 1,
   "id": "initial_id",
   "metadata": {
    "ExecuteTime": {
     "end_time": "2023-08-17T09:54:45.419977Z",
     "start_time": "2023-08-17T09:54:45.179488Z"
    },
    "collapsed": true
   },
   "outputs": [],
   "source": [
    "from evalio.generate import generate_prompt_test_cases\n",
    "from evalio.evaluation import are_texts, ANSWER_COMPARISON_PROMPT_TEMPLATE"
   ]
  },
  {
   "cell_type": "code",
   "execution_count": 2,
   "id": "e6de9331da2b7bf1",
   "metadata": {
    "ExecuteTime": {
     "end_time": "2023-08-17T09:55:17.366153Z",
     "start_time": "2023-08-17T09:54:46.226755Z"
    },
    "collapsed": false
   },
   "outputs": [
    {
     "data": {
      "text/plain": [
       "['PREVIOUSLY GENERATED TEST CASES:\\n\\n################\\n\\nTEST CASE 1:\\nAre these two answers identical?\\n\\nAnswer 1:\\n\"\"\"\\nThe capital of France is Paris.\\n\"\"\"\\n\\nAnswer 2:\\n\"\"\"\\nThe capital of France is Paris.\\n\"\"\"\\n\\nAre the two answers identical?\\n\\nTEST CASE 2:\\nAre these two answers contradictory?\\n\\nAnswer 1:\\n\"\"\"\\nCats are mammals.\\n\"\"\"\\n\\nAnswer 2:\\n\"\"\"\\nCats are reptiles.\\n\"\"\"\\n\\nAre the two answers contradictory?\\n\\nTEST CASE 3:\\nAre these two answers complementary?\\n\\nAnswer 1:\\n\"\"\"\\nWater is a liquid at room temperature.\\n\"\"\"\\n\\nAnswer 2:\\n\"\"\"\\nIce is a solid form of water.\\n\"\"\"\\n\\nAre the two answers complementary?\\n\\n################\\n\\nNEW TEST CASE:\\n\\nAre these two answers logically consistent?\\n\\nAnswer 1:\\n\"\"\"\\nAll birds can fly.\\n\"\"\"\\n\\nAnswer 2:\\n\"\"\"\\nPenguins are birds.\\n\"\"\"\\n\\nAre the two answers logically consistent?',\n",
       " 'NEW TEST CASE:\\n\\nAre these two answers overlapping?\\n\\nAnswer 1:\\n\"\"\"\\nThe Great Wall of China is one of the Seven Wonders of the World.\\n\"\"\"\\n\\nAnswer 2:\\n\"\"\"\\nThe Seven Wonders of the World include the Great Wall of China.\\n\"\"\"\\n\\nAre the two answers overlapping?',\n",
       " 'NEW TEST CASE:\\n\\nAre these two answers mutually exclusive?\\n\\nAnswer 1:\\n\"\"\"\\nThe Earth revolves around the Sun.\\n\"\"\"\\n\\nAnswer 2:\\n\"\"\"\\nThe Sun revolves around the Earth.\\n\"\"\"\\n\\nAre the two answers mutually exclusive?']"
      ]
     },
     "execution_count": 2,
     "metadata": {},
     "output_type": "execute_result"
    }
   ],
   "source": [
    "generate_prompt_test_cases(ANSWER_COMPARISON_PROMPT_TEMPLATE)"
   ]
  }
 ],
 "metadata": {
  "kernelspec": {
   "display_name": "Python 3",
   "language": "python",
   "name": "python3"
  },
  "language_info": {
   "codemirror_mode": {
    "name": "ipython",
    "version": 2
   },
   "file_extension": ".py",
   "mimetype": "text/x-python",
   "name": "python",
   "nbconvert_exporter": "python",
   "pygments_lexer": "ipython2",
   "version": "2.7.6"
  }
 },
 "nbformat": 4,
 "nbformat_minor": 5
}
