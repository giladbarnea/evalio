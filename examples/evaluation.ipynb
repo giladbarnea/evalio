{
 "cells": [
  {
   "cell_type": "code",
   "execution_count": 1,
   "id": "initial_id",
   "metadata": {
    "collapsed": true,
    "ExecuteTime": {
     "end_time": "2023-08-17T08:01:44.097006Z",
     "start_time": "2023-08-17T08:01:43.351354Z"
    }
   },
   "outputs": [],
   "source": [
    "from evalio.evaluation import are_texts, are_texts_factually_consistent, which_text, which_text_is_easier_to_read"
   ]
  },
  {
   "cell_type": "code",
   "execution_count": null,
   "outputs": [],
   "source": [
    "are_texts_factually_consistent"
   ],
   "metadata": {
    "collapsed": false
   },
   "id": "111077b09a666422"
  }
 ],
 "metadata": {
  "kernelspec": {
   "display_name": "Python 3",
   "language": "python",
   "name": "python3"
  },
  "language_info": {
   "codemirror_mode": {
    "name": "ipython",
    "version": 2
   },
   "file_extension": ".py",
   "mimetype": "text/x-python",
   "name": "python",
   "nbconvert_exporter": "python",
   "pygments_lexer": "ipython2",
   "version": "2.7.6"
  }
 },
 "nbformat": 4,
 "nbformat_minor": 5
}
