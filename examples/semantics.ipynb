{
 "cells": [
  {
   "cell_type": "code",
   "execution_count": 1,
   "id": "initial_id",
   "metadata": {
    "ExecuteTime": {
     "end_time": "2023-08-13T16:06:26.173797Z",
     "start_time": "2023-08-13T16:06:25.078830Z"
    },
    "collapsed": true
   },
   "outputs": [],
   "source": [
    "from openai.embeddings_utils import cosine_similarity\n",
    "from evalio.semantics import visualize_embeddings, get_embedding, get_nearest_neighbors\n",
    "from evalio.util import convert_string_to_numpy_array\n",
    "import pandas as pd\n",
    "\n",
    "from sklearn.metrics import classification_report, PrecisionRecallDisplay"
   ]
  },
  {
   "cell_type": "code",
   "execution_count": null,
   "id": "4c813c12aa3a08cf",
   "metadata": {
    "collapsed": false
   },
   "outputs": [],
   "source": [
    "EMBEDDING_COLUMN_NAME = 'embedding'\n",
    "SCORE_COLUMN_NAME = 'Score'\n",
    "\n",
    "df = pd.read_csv('data/fine_food_reviews_with_embeddings_1k.csv')"
   ]
  },
  {
   "cell_type": "markdown",
   "id": "edc00dbea23876c5",
   "metadata": {
    "collapsed": false
   },
   "source": [
    "# Visualize embeddings"
   ]
  },
  {
   "cell_type": "code",
   "execution_count": null,
   "id": "52cd590dd6f6d114",
   "metadata": {
    "collapsed": false
   },
   "outputs": [],
   "source": [
    "visualize_embeddings(df, embeddings_column='embedding', score_column='Score')"
   ]
  },
  {
   "cell_type": "markdown",
   "id": "6bbd3e65c0174238",
   "metadata": {
    "collapsed": false
   },
   "source": [
    "# 2-class Precision-Recall curve (review sentiment)"
   ]
  },
  {
   "cell_type": "code",
   "execution_count": null,
   "id": "732e1116d109c918",
   "metadata": {
    "collapsed": false
   },
   "outputs": [],
   "source": [
    "df['embedding'] = convert_string_to_numpy_array(df['embedding'])\n",
    "\n",
    "# convert 5-star rating to binary sentiment\n",
    "df = df[df.Score != 3]\n",
    "df[\"sentiment\"] = df.Score.replace({1: \"negative\", 2: \"negative\", 4: \"positive\", 5: \"positive\"})"
   ]
  },
  {
   "cell_type": "code",
   "execution_count": null,
   "id": "baa2140a869d1249",
   "metadata": {
    "collapsed": false
   },
   "outputs": [],
   "source": [
    "def evaluate_embeddings_approach(labels=('negative', 'positive')):\n",
    "    label_embeddings_ = [get_embedding(label) for label in labels]\n",
    "\n",
    "    def label_score(review_embedding, label_embeddings):\n",
    "        return cosine_similarity(review_embedding, label_embeddings[1]) - cosine_similarity(\n",
    "            review_embedding, label_embeddings[0]\n",
    "        )\n",
    "\n",
    "    probas = df[\"embedding\"].apply(lambda x: label_score(x, label_embeddings_))\n",
    "    preds = probas.apply(lambda x: 'positive' if x > 0 else 'negative')\n",
    "\n",
    "    report = classification_report(df.sentiment, preds)\n",
    "    print(report)\n",
    "\n",
    "    display = PrecisionRecallDisplay.from_predictions(df.sentiment, probas, pos_label='positive')\n",
    "    _ = display.ax_.set_title(\"2-class Precision-Recall curve\")"
   ]
  },
  {
   "cell_type": "code",
   "execution_count": null,
   "id": "a774d6795e4346ab",
   "metadata": {
    "collapsed": false
   },
   "outputs": [],
   "source": [
    "evaluate_embeddings_approach(labels=['negative', 'positive'])"
   ]
  },
  {
   "cell_type": "code",
   "execution_count": null,
   "id": "77b5d8a7098f69c3",
   "metadata": {
    "collapsed": false
   },
   "outputs": [],
   "source": [
    "evaluate_embeddings_approach(\n",
    "    labels=['An Amazon review with a negative sentiment.', 'An Amazon review with a positive sentiment.']\n",
    ")"
   ]
  },
  {
   "cell_type": "markdown",
   "id": "efd81ea0a1aa1821",
   "metadata": {
    "collapsed": false
   },
   "source": [
    "# Clustering"
   ]
  },
  {
   "cell_type": "code",
   "execution_count": null,
   "id": "67ddad9a5782553c",
   "metadata": {
    "collapsed": false
   },
   "outputs": [],
   "source": [
    "from evalio.semantics import create_clusters_from_embeddings, create_clusters_from_column\n",
    "\n",
    "CLUSTER_COLUMN_NAME = 'Cluster'\n",
    "N_CLUSTERS = 4\n",
    "\n",
    "df['Cluster'] = create_clusters_from_column(df['embedding'], n_clusters=N_CLUSTERS)\n",
    "# create_clusters_from_embeddings(\n",
    "#     df,\n",
    "#     embeddings_column=EMBEDDING_COLUMN_NAME,\n",
    "#     target_cluster_column=CLUSTER_COLUMN_NAME,\n",
    "#     n_clusters=N_CLUSTERS,\n",
    "# )"
   ]
  },
  {
   "cell_type": "code",
   "execution_count": null,
   "id": "b5c70b21bff41d4",
   "metadata": {
    "collapsed": false
   },
   "outputs": [],
   "source": [
    "from evalio.semantics import visualize_embedding_clusters\n",
    "\n",
    "visualize_embedding_clusters(\n",
    "    df, embeddings_column='embedding', target_cluster_column='Cluster', score_column='Score', n_clusters=N_CLUSTERS\n",
    ")"
   ]
  },
  {
   "cell_type": "code",
   "execution_count": null,
   "id": "f908ec7e2a4d60e9",
   "metadata": {
    "collapsed": false
   },
   "outputs": [],
   "source": [
    "from evalio.semantics import classify_clusters_with_llm\n",
    "\n",
    "classify_clusters_with_llm(df, cluster_column='Cluster', n_clusters=N_CLUSTERS)"
   ]
  },
  {
   "cell_type": "markdown",
   "id": "1bdd5e2c62f2e82d",
   "metadata": {
    "collapsed": false
   },
   "source": [
    "# Semantic search"
   ]
  },
  {
   "cell_type": "code",
   "execution_count": null,
   "id": "79c34a0e1cb84ecf",
   "metadata": {
    "collapsed": false
   },
   "outputs": [],
   "source": [
    "from evalio.semantics import search_reviews\n",
    "\n",
    "\n",
    "results = search_reviews(df, \"delicious beans\", embeddings_column='embedding', top_n=3)"
   ]
  },
  {
   "cell_type": "code",
   "execution_count": null,
   "id": "510ff037f4f179b4",
   "metadata": {
    "ExecuteTime": {
     "end_time": "2023-08-13T16:23:22.905174Z",
     "start_time": "2023-08-13T16:23:22.890204Z"
    },
    "collapsed": false
   },
   "outputs": [],
   "source": [
    "news_df = pd.read_csv('data/AG_news_samples.csv')\n",
    "for idx, row in news_df.head(3).iterrows():\n",
    "    print(\"\")\n",
    "    print(f\"Title: {row['title']}\")\n",
    "    print(f\"Description: {row['description']}\")\n",
    "    print(f\"Label: {row['label']}\")"
   ]
  },
  {
   "cell_type": "code",
   "execution_count": null,
   "id": "f2f6ddc57cbf9565",
   "metadata": {
    "ExecuteTime": {
     "end_time": "2023-08-13T16:23:26.291017Z",
     "start_time": "2023-08-13T16:23:26.272330Z"
    },
    "collapsed": false
   },
   "outputs": [],
   "source": [
    "news_descriptions = news_df[\"description\"].tolist()\n",
    "news_descriptions"
   ]
  },
  {
   "cell_type": "code",
   "execution_count": null,
   "id": "50936ce6f726e04f",
   "metadata": {
    "ExecuteTime": {
     "end_time": "2023-08-13T16:23:29.516688Z",
     "start_time": "2023-08-13T16:23:29.509229Z"
    },
    "collapsed": false
   },
   "outputs": [],
   "source": [
    "news_df[\"description\"].values[0] == news_df[\"description\"][0] == news_descriptions[0]"
   ]
  },
  {
   "cell_type": "code",
   "execution_count": null,
   "id": "9307f460b94d9a59",
   "metadata": {
    "ExecuteTime": {
     "end_time": "2023-08-13T16:23:32.310997Z",
     "start_time": "2023-08-13T16:23:32.299615Z"
    },
    "collapsed": false
   },
   "outputs": [],
   "source": [
    "first_news_description_embedding = get_embedding(news_descriptions[0])\n",
    "first_news_description_embedding"
   ]
  },
  {
   "cell_type": "code",
   "execution_count": null,
   "id": "7f073c7be2f66e04",
   "metadata": {
    "ExecuteTime": {
     "end_time": "2023-08-13T16:31:27.609308Z",
     "start_time": "2023-08-13T16:23:52.955159Z"
    },
    "collapsed": false
   },
   "outputs": [],
   "source": [
    "get_nearest_neighbors(news_descriptions, 0, k_nearest_neighbors=5)"
   ]
  },
  {
   "cell_type": "code",
   "execution_count": null,
   "id": "6a2dd6756fa77729",
   "metadata": {
    "ExecuteTime": {
     "end_time": "2023-08-13T16:31:36.915189Z",
     "start_time": "2023-08-13T16:31:36.899826Z"
    },
    "collapsed": false
   },
   "outputs": [],
   "source": [
    "get_embedding.cache_info()"
   ]
  }
 ],
 "metadata": {
  "kernelspec": {
   "display_name": "Python 3",
   "language": "python",
   "name": "python3"
  },
  "language_info": {
   "codemirror_mode": {
    "name": "ipython",
    "version": 3
   },
   "file_extension": ".py",
   "mimetype": "text/x-python",
   "name": "python",
   "nbconvert_exporter": "python",
   "pygments_lexer": "ipython3",
   "version": "3.10.14"
  }
 },
 "nbformat": 4,
 "nbformat_minor": 5
}
