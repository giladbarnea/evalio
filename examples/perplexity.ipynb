{
 "cells": [
  {
   "cell_type": "code",
   "execution_count": null,
   "outputs": [],
   "source": [
    "from llm_utils.perplexity import compare_perplexity"
   ],
   "metadata": {
    "collapsed": false
   },
   "id": "1a5b3da5114d951b"
  },
  {
   "cell_type": "code",
   "execution_count": null,
   "outputs": [],
   "source": [
    "compare_perplexity(\n",
    "    \"What is this article about?\",\n",
    "    \"What is this piece of news regarding?\",\n",
    "    \"What is the best way to describe this article?\",\n",
    "    \"In what way would someone that is interested in this article describe its contents in a way\"\n",
    "    \" that is most relevant to them?\",\n",
    ")"
   ],
   "metadata": {
    "collapsed": false
   },
   "id": "56670ba93bb3f617"
  }
 ],
 "metadata": {
  "kernelspec": {
   "display_name": "Python 3",
   "language": "python",
   "name": "python3"
  },
  "language_info": {
   "codemirror_mode": {
    "name": "ipython",
    "version": 2
   },
   "file_extension": ".py",
   "mimetype": "text/x-python",
   "name": "python",
   "nbconvert_exporter": "python",
   "pygments_lexer": "ipython2",
   "version": "2.7.6"
  }
 },
 "nbformat": 4,
 "nbformat_minor": 5
}
